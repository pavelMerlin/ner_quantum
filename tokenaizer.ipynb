{
 "cells": [
  {
   "cell_type": "code",
   "execution_count": 1,
   "metadata": {
    "collapsed": true,
    "ExecuteTime": {
     "end_time": "2023-11-23T13:05:30.237983Z",
     "start_time": "2023-11-23T13:05:28.186786500Z"
    }
   },
   "outputs": [],
   "source": [
    "from sklearn.model_selection import train_test_split\n",
    "import os\n",
    "import pandas as pd\n",
    "\n",
    "# Read the file and divide the sentences into words\n",
    "with open('generated_data/merged_new.txt', 'r') as f:\n",
    "    # Read text and write it in data value\n",
    "    data = f.read()\n",
    "    # Split words with space\n",
    "    words = data.split()\n",
    "\n",
    "sentences = []\n",
    "current_sentence = []\n",
    "\n",
    "# Create suggestions for the points found. No other characters are found in the generated data\n",
    "for word in words:\n",
    "    current_sentence.append(word)\n",
    "    if word.endswith('.'):\n",
    "        sentences.append(current_sentence)\n",
    "        current_sentence = []\n",
    "\n",
    "# Delete one-word sentences.\n",
    "for sent in sentences:\n",
    "    if len(sent) <= 1:\n",
    "        sentences.remove(sent)"
   ]
  },
  {
   "cell_type": "code",
   "execution_count": 2,
   "outputs": [],
   "source": [
    "result_list = []\n",
    "current_id = 0\n",
    "\n",
    "# Cycle to find the contents between the two pluses \"++\".\n",
    "# Create a list of ner tags and generate data for further loading into json files.\n",
    "for sentence in sentences:\n",
    "    ner_tags = []\n",
    "    updated_sentence = []\n",
    "    inside_names = 0\n",
    "    # Take one sentence and detect two pluses inside\n",
    "    for word in sentence:\n",
    "        # Copy word? for avoiding data loses\n",
    "        updated_word = word\n",
    "\n",
    "        # # B (Begin), I (Inside) или O (Outside).\n",
    "        # if word.startswith('++'):\n",
    "        #     updated_word = word.replace('++', '').strip()\n",
    "        #     ner_tags.append('B-geo')\n",
    "        # elif word.endswith('++'):\n",
    "        #     updated_word = word.replace('++', '').strip()\n",
    "        #     ner_tags.append('I-geo')\n",
    "        # else:\n",
    "        #     ner_tags.append('O')\n",
    "\n",
    "        if word.startswith('++', 0, 2):\n",
    "            if word.count('+') == 4 and word.endswith(\"++\") is False:\n",
    "                inside_names = 0\n",
    "            elif word.endswith(\"++\") is False:\n",
    "                inside_names += 1\n",
    "            updated_word = word.replace('++', '').strip()\n",
    "            ner_tags.append(1)\n",
    "        elif word.endswith('++') and inside_names >= 1:\n",
    "            updated_word = word.replace('++', '').strip()\n",
    "            ner_tags.append(2)\n",
    "            inside_names = 0\n",
    "        elif word.count('+') == 2:\n",
    "            updated_word = word.replace('++', '').strip()\n",
    "            ner_tags.append(2)\n",
    "            inside_names = 0\n",
    "        elif inside_names >= 1:\n",
    "            ner_tags.append(2)\n",
    "        else:\n",
    "            inside_names = 0\n",
    "            ner_tags.append(0)\n",
    "\n",
    "        # Add updated word in new list of words\n",
    "        updated_sentence.append(updated_word)\n",
    "\n",
    "    current_id += 1\n",
    "\n",
    "    # Create a dictionary with data\n",
    "    word_dict = {\n",
    "        'id': current_id,\n",
    "        'ner_tags': ner_tags,\n",
    "        'tokens': updated_sentence\n",
    "    }\n",
    "    # Append dict to result list\n",
    "    result_list.append(word_dict)"
   ],
   "metadata": {
    "collapsed": false,
    "ExecuteTime": {
     "end_time": "2023-11-23T13:05:30.272449500Z",
     "start_time": "2023-11-23T13:05:30.242997300Z"
    }
   }
  },
  {
   "cell_type": "code",
   "execution_count": 3,
   "outputs": [],
   "source": [
    "# Path to dictionary with training files\n",
    "TRAIN_READY_DATASET_DIR = \"../tokenaized_data\"\n",
    "\n",
    "# Convert list to DataFrame\n",
    "dataset_df = pd.DataFrame(result_list)\n",
    "\n",
    "# Split the data into training and evaluation datasets using an 80-20 split ratio\n",
    "train_df, eval_df = train_test_split(\n",
    "    dataset_df[['id', 'ner_tags', 'tokens']], shuffle=True, test_size=0.2\n",
    ")\n",
    "\n",
    "# Save the training and evaluation datasets as JSON files in the specified directory\n",
    "train_df.to_json(\n",
    "    os.path.join(TRAIN_READY_DATASET_DIR, \"train_data.json\"),\n",
    "    indent=2,\n",
    "    orient=\"table\",\n",
    "    index=None,\n",
    ")\n",
    "\n",
    "eval_df.to_json(\n",
    "    os.path.join(TRAIN_READY_DATASET_DIR, \"eval_data.json\"),\n",
    "    indent=2,\n",
    "    orient=\"table\",\n",
    "    index=None,\n",
    ")"
   ],
   "metadata": {
    "collapsed": false,
    "ExecuteTime": {
     "end_time": "2023-11-23T13:05:30.309688900Z",
     "start_time": "2023-11-23T13:05:30.274037100Z"
    }
   }
  }
 ],
 "metadata": {
  "kernelspec": {
   "display_name": "Python 3",
   "language": "python",
   "name": "python3"
  },
  "language_info": {
   "codemirror_mode": {
    "name": "ipython",
    "version": 2
   },
   "file_extension": ".py",
   "mimetype": "text/x-python",
   "name": "python",
   "nbconvert_exporter": "python",
   "pygments_lexer": "ipython2",
   "version": "2.7.6"
  }
 },
 "nbformat": 4,
 "nbformat_minor": 0
}
